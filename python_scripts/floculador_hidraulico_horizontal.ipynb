{
 "cells": [
  {
   "cell_type": "markdown",
   "id": "839ecce3-df2d-4427-bf34-c28b668ab66d",
   "metadata": {},
   "source": [
    "# Dimensionamento de floculador hidráulico horizontal"
   ]
  },
  {
   "cell_type": "markdown",
   "id": "dad03b51-668a-42c7-b01d-8e28935811c6",
   "metadata": {},
   "source": [
    "- Roteiro de cálculo adaptado do Exemplo 3-2 do livro de Seckler Filho (2017). Recomenda-se a aquisição do bibliografia de referência (https://www.grupogen.com.br/tratamento-de-agua).\n",
    "- Use por sua conta e risco. Roteiro em desenvolvimento."
   ]
  },
  {
   "cell_type": "markdown",
   "id": "c32a2bc9-b2fd-4e04-914a-cbc7f96b7d6f",
   "metadata": {},
   "source": [
    "**Prof. Leonardo Damasceno - leonardo.damasceno@unifal-mg.edu.br**\n",
    "\n",
    "<span style=\"color:red\">**ATENÇÃO!**</span>. Executar o roteiro passo a passo adotando os valores intermediários quando necessário."
   ]
  },
  {
   "cell_type": "markdown",
   "id": "fa6d6447-2394-4c8e-89dd-19a95c89f816",
   "metadata": {},
   "source": [
    "### Bibliotecas"
   ]
  },
  {
   "cell_type": "code",
   "execution_count": 5,
   "id": "5a3b1935-dadd-44f0-96f8-872b71c5e21e",
   "metadata": {},
   "outputs": [],
   "source": [
    "import math\n",
    "import matplotlib.pyplot as plt"
   ]
  },
  {
   "cell_type": "markdown",
   "id": "ef51f9b2-00f8-4352-9e3a-4d7ef784c4b7",
   "metadata": {},
   "source": [
    "### Dados de entrada"
   ]
  },
  {
   "cell_type": "code",
   "execution_count": 7,
   "id": "5f4d968b-f8a1-487d-9874-c742b9051305",
   "metadata": {},
   "outputs": [],
   "source": [
    "vazao = 100 # Vazão de operação em L/s.\n",
    "TDH = 30 # Tempo de detenção hidráulica em minutos.\n",
    "Grad = 40 # Gradiente em 1/s.\n",
    "h = 0.8 # Profundidade da lâmina de água.\n",
    "\n",
    "temperatura = 20 # Temperatura em graus Celsius.\n",
    "g = 9.81 # Aceleração da gravidade (m/s2)\n",
    "mi = 1.002e-3 # Viscosidade cinemática (N.s)/m2\n",
    "Ro = 998.2 # Densidade da água (kg/m^3)"
   ]
  },
  {
   "cell_type": "code",
   "execution_count": 8,
   "id": "8b3dbab4-1ac5-487f-b22d-d06ee6eff6f1",
   "metadata": {
    "scrolled": true
   },
   "outputs": [
    {
     "name": "stdout",
     "output_type": "stream",
     "text": [
      "Volume (V): 180.00 m3\n",
      "Potência requerida (Potência): 288.58 W\n",
      "Energia dissipada (Delta H): 0.29 m\n",
      "Área (A): 225.00 m2\n"
     ]
    }
   ],
   "source": [
    "V = (TDH*60)*(vazao/1000)\n",
    "Potencia = Grad**2 * mi * V\n",
    "delta_H = Potencia/(Ro*g*(vazao/1000))\n",
    "area = V/h\n",
    "print(f\"Volume (V): {V:.2f} m3\")\n",
    "print(f\"Potência requerida (Potência): {Potencia:.2f} W\")\n",
    "print(f\"Energia dissipada (Delta H): {delta_H:.2f} m\")\n",
    "print(f\"Área (A): {area:.2f} m2\")"
   ]
  },
  {
   "cell_type": "markdown",
   "id": "650b5818-b598-41e8-be07-cb0c354d408e",
   "metadata": {},
   "source": [
    "<span style=\"color:red\">**ATENÇÃO!**</span> **Escolha do número de canais (nc) e relação comprimento/largura (cl)** \n",
    "\n",
    "Observação:\n",
    "- O número de canais (nc) deve ser maior ou igual a 3.\n",
    "- A relação comprimento/largura igual a 1 resulta em uma unidade quadrada. Valores superiores a 1 resulta em uma unidade retangular."
   ]
  },
  {
   "cell_type": "code",
   "execution_count": 10,
   "id": "339654f6-8d92-4cc7-ab5d-4faeb4d00c3e",
   "metadata": {},
   "outputs": [],
   "source": [
    "nc = 3 # Número de canais adotados.\n",
    "cl = 1 # Relação comprimento/largura do floculador."
   ]
  },
  {
   "cell_type": "code",
   "execution_count": 11,
   "id": "6f97f5c0-5f4e-4f49-b668-bc3e009d0b55",
   "metadata": {},
   "outputs": [
    {
     "name": "stdout",
     "output_type": "stream",
     "text": [
      "Largura estimada da unidade: 15.00 m.\n",
      "Comprimento estimado do canal: 15.00 m.\n",
      "Largura estimada do canal: 5.00 m.\n"
     ]
    }
   ],
   "source": [
    "comp_esti = math.sqrt(area*cl)\n",
    "larg_esti = comp_esti/cl\n",
    "lcanal_esti = larg_esti/nc\n",
    "\n",
    "print(f\"Largura estimada da unidade: {larg_esti:.2f} m.\")\n",
    "print(f\"Comprimento estimado do canal: {comp_esti:.2f} m.\")\n",
    "print(f\"Largura estimada do canal: {lcanal_esti:.2f} m.\")\n",
    "\n",
    "#larg_esti = math.sqrt(area) ## Largura da unidade\n",
    "#lcanal_esti = larg_esti/nc\n",
    "#comp_esti = lcanal_esti*lc\n",
    "#print(f\"Largura estimada do floculador: {larg_esti:.2f} m.\")\n",
    "#print(f\"Número de canais: {nc:.0f}.\")\n",
    "#print(f\"Comprimento estimado de cada canal: {comp_esti:.2f} m.\")\n",
    "#print(f\"Largura estimada de cada canal do canal: {lcanal_esti:.2f} m.\")"
   ]
  },
  {
   "cell_type": "markdown",
   "id": "73dd6138-363d-4f5a-82bd-fceaf85dd50b",
   "metadata": {},
   "source": [
    "<span style=\"color:red\">**ATENÇÃO!**</span> **Escolha da largura do canal (lcanal)** \n",
    "\n",
    "Observação: a escolha deverá ser feita em função dos valores acima estimados."
   ]
  },
  {
   "cell_type": "code",
   "execution_count": 13,
   "id": "b23be06d-c339-4303-bc54-35f91a7a17cb",
   "metadata": {},
   "outputs": [
    {
     "name": "stdout",
     "output_type": "stream",
     "text": [
      "Comprimento calculado do canal: 15.00 m.\n"
     ]
    }
   ],
   "source": [
    "# Adote o valor da largura do canal em função da Largura estimada do canal.\n",
    "lcanal = 5 # Largura adotada do canal.\n",
    "\n",
    "larg = lcanal*nc # Largura calculada do floculador\n",
    "comp = area/larg # Comprimento calculado do floculador\n",
    "print(f\"Comprimento calculado do canal: {comp:.2f} m.\")"
   ]
  },
  {
   "cell_type": "markdown",
   "id": "45691a05-3fdc-4566-b807-07852beb1da8",
   "metadata": {},
   "source": [
    "<span style=\"color:red\">**ATENÇÃO!**</span> **Escolha do comprimento do floculador (comp)** \n",
    "\n",
    "Observação: a escolha deverá ser feita em função dos valores acima estimados."
   ]
  },
  {
   "cell_type": "code",
   "execution_count": 15,
   "id": "854d2d98-f8d2-490e-9ad5-454831098ce3",
   "metadata": {},
   "outputs": [
    {
     "name": "stdout",
     "output_type": "stream",
     "text": [
      "Dimensões resultantes do floculador:\n",
      "Comprimento do canal: 15.00 m.\n",
      "Largura do canal: 5.00 m.\n",
      "Largura do floculador: 15.00 m.\n",
      "Volume do floculador: 180.00 m.\n",
      "TDH do floculador: 30.00 min.\n",
      "TDH em cada canal: 10.00 min.\n"
     ]
    }
   ],
   "source": [
    "# Adote o valor do comprimento do floculador em função do comprimento calculado no passo anterior\n",
    "comp = 15 # Comprimento adotado do floculador.\n",
    "\n",
    "V = comp*larg*h # Volume resultante do floculador.\n",
    "TDH = (V/(vazao/1000))/60 # TDH resultante do floculador.\n",
    "TDHcanal = TDH/nc # TDH resultante em cada canal\n",
    "print(\"Dimensões resultantes do floculador:\")\n",
    "print(f\"Comprimento do canal: {comp:.2f} m.\")\n",
    "print(f\"Largura do canal: {lcanal:.2f} m.\")\n",
    "print(f\"Largura do floculador: {larg:.2f} m.\")\n",
    "print(f\"Volume do floculador: {V:.2f} m.\")\n",
    "print(f\"TDH do floculador: {TDH:.2f} min.\")\n",
    "print(f\"TDH em cada canal: {TDHcanal:.2f} min.\")"
   ]
  },
  {
   "cell_type": "markdown",
   "id": "eabbba50-2aa0-4b00-95c6-33eb5523f71c",
   "metadata": {},
   "source": [
    "<span style=\"color:red\">**ATENÇÃO!**</span> **Número de espaçamentos por canal**"
   ]
  },
  {
   "cell_type": "code",
   "execution_count": 17,
   "id": "1e6a7006-d575-4895-ac83-87881dc65169",
   "metadata": {},
   "outputs": [
    {
     "name": "stdout",
     "output_type": "stream",
     "text": [
      "Estimativa do número de espaçamentos: 27.6 espaçamentos.\n"
     ]
    }
   ],
   "source": [
    "n_esp = 0.045* ((((h*comp*Grad)/(vazao/1000))**2)*TDHcanal)**(1/3)\n",
    "print(f\"Estimativa do número de espaçamentos: {n_esp:.1f} espaçamentos.\")"
   ]
  },
  {
   "cell_type": "code",
   "execution_count": 18,
   "id": "1ef38763-8fb4-4dcd-9d82-3a0f32b4af91",
   "metadata": {},
   "outputs": [
    {
     "name": "stdout",
     "output_type": "stream",
     "text": [
      "Espaçamento entre chicanas: 0.60 m.\n"
     ]
    }
   ],
   "source": [
    "# Adote o número de espaçamentos com base no valor anterior.\n",
    "n_esp = 25 # Número de espaçamentos adotado.\n",
    "\n",
    "espac = comp/n_esp\n",
    "print(f\"Espaçamento entre chicanas: {espac:.2f} m.\")\n",
    "if espac < 0.6:\n",
    "    print(\"Atenção! Recomenda-se o espaçamento igual ou superior a 0.6 m!\")"
   ]
  },
  {
   "cell_type": "code",
   "execution_count": 19,
   "id": "03daa436-e071-4ef1-8905-6358e3c73b9e",
   "metadata": {
    "scrolled": true
   },
   "outputs": [
    {
     "name": "stdout",
     "output_type": "stream",
     "text": [
      "Abertura das passagens estimada entre as chicanas (hp): 0.90 m.\n"
     ]
    }
   ],
   "source": [
    "Aesc = h*espac\n",
    "Rh = Aesc/((2*h)+espac)\n",
    "J = (((vazao/1000)*0.013)/(Aesc*(Rh**(2/3))))**2\n",
    "Lr = lcanal*n_esp\n",
    "delta_H_d = J*Lr\n",
    "vr = (vazao/1000)/(h*espac)\n",
    "vc = vr*(2/3)\n",
    "hp = (vazao/1000)/(h*vc)\n",
    "\n",
    "print(f\"Abertura das passagens estimada entre as chicanas (hp): {hp:.2f} m.\")"
   ]
  },
  {
   "cell_type": "markdown",
   "id": "4b0d5a4f-35cd-4a2e-a235-d69d04e52b3f",
   "metadata": {},
   "source": [
    "<span style=\"color:red\">**ATENÇÃO!**</span> **Adoção do valor da abertura da passagem entre as chicanas**\n",
    "\n",
    "Observação: adotar em função do valor de hp estimado anteriormente."
   ]
  },
  {
   "cell_type": "code",
   "execution_count": 21,
   "id": "6609fcc7-b5a4-4670-b517-5de471e084eb",
   "metadata": {},
   "outputs": [
    {
     "name": "stdout",
     "output_type": "stream",
     "text": [
      "Área de escoamento: 0.48 m2.\n",
      "Raio hidráulico: 0.22 m.\n",
      "Perda de carga unitária (J): 5.58e-05 m/m.\n",
      "Comprimento total dos trechos retos (Lr): 125.00 m.\n",
      "Perda de carga distribuída (Delta Hd): 6.98e-03 m.\n",
      "Velocidade nos trechos retos (vr): 0.21 m/s.\n",
      "Velocidade nos trechos curvilíneos (vc): 0.16 m/s.\n",
      "Abertura das passagens entre as chicanas (hp): 0.80 m.\n",
      "Perda de carga localizada (Delta Hl): 0.10 m.\n",
      "Perda de carga total (Delta Ht): 0.31 m.\n",
      "Gradiente de velocidade final (G): 40.87 1/s.\n",
      "Parâmetro GT: 7.36e+04.\n"
     ]
    }
   ],
   "source": [
    "hp = 0.8 # Valor adotado para a abertura da passagem em metros.\n",
    "\n",
    "vc = (vazao/1000)/(h*hp)\n",
    "delta_H_l = ((n_esp-1)*3.2*(vc**2))/(2*g)\n",
    "delta_H_t = nc*(delta_H_d+delta_H_l)\n",
    "Grad_final = math.sqrt((Ro*g*(vazao/1000)*delta_H_t)/(mi*V))\n",
    "GT = Grad_final*TDH*60\n",
    "\n",
    "print(f\"Área de escoamento: {Aesc:.2f} m2.\")\n",
    "print(f\"Raio hidráulico: {Rh:.2f} m.\")\n",
    "print(f\"Perda de carga unitária (J): {J:.2e} m/m.\")\n",
    "print(f\"Comprimento total dos trechos retos (Lr): {Lr:.2f} m.\")\n",
    "print(f\"Perda de carga distribuída (Delta Hd): {delta_H_d:.2e} m.\")\n",
    "print(f\"Velocidade nos trechos retos (vr): {vr:.2f} m/s.\")\n",
    "print(f\"Velocidade nos trechos curvilíneos (vc): {vc:.2f} m/s.\")\n",
    "print(f\"Abertura das passagens entre as chicanas (hp): {hp:.2f} m.\")\n",
    "print(f\"Perda de carga localizada (Delta Hl): {delta_H_l:.2f} m.\")\n",
    "print(f\"Perda de carga total (Delta Ht): {delta_H_t:.2f} m.\")\n",
    "print(f\"Gradiente de velocidade final (G): {Grad_final:.2f} 1/s.\")\n",
    "print(f\"Parâmetro GT: {GT:.2e}.\")"
   ]
  },
  {
   "cell_type": "markdown",
   "id": "ce728504-156e-4d68-812c-278c1e26193d",
   "metadata": {},
   "source": [
    "***"
   ]
  },
  {
   "cell_type": "markdown",
   "id": "80e2a561-8454-4424-8546-7e6676f807ac",
   "metadata": {},
   "source": [
    "**Qual o gradiente se a vazão aumentar para 200 L/s, mantendo as dimensões do floculador?**"
   ]
  },
  {
   "cell_type": "code",
   "execution_count": 24,
   "id": "c530cfbe-e743-4a1b-853b-6aa1858dbc02",
   "metadata": {},
   "outputs": [
    {
     "name": "stdout",
     "output_type": "stream",
     "text": [
      "Gradiente de velocidade final (G): 103.68 1/s.\n"
     ]
    }
   ],
   "source": [
    "vazao_nova = 200 # Vazãm em L/s.\n",
    "\n",
    "def gradiente_floc(vazao_nova, V, nc, Aesc, Rh, Lr, lcanal, espac, n_esp, g, Ro, mi):\n",
    "    TDH = (V/(vazao_nova/1000))/60 # TDH resultante do floculador.\n",
    "    TDHcanal = TDH/nc # TDH resultante em cada canal\n",
    "    J = (((vazao_nova/1000)*0.013)/(Aesc*(Rh**(2/3))))**2\n",
    "    delta_H_d = J*Lr\n",
    "    vr = (vazao_nova/1000)/(h*espac)\n",
    "    vc = vr*(2/3)\n",
    "    delta_H_l = ((n_esp-1)*3.2*(vc**2))/(2*g)\n",
    "    delta_H_t = nc*(delta_H_d+delta_H_l)\n",
    "    Grad_final = math.sqrt((Ro*g*(vazao_nova/1000)*delta_H_t)/(mi*V))\n",
    "    GT = Grad_final*TDH*60\n",
    "    return Grad_final\n",
    "\n",
    "Grad_final_nova = gradiente_floc(vazao_nova, V, nc, Aesc, Rh, Lr, lcanal, espac, n_esp, g, Ro, mi)\n",
    "print(f\"Gradiente de velocidade final (G): {Grad_final_nova:.2f} 1/s.\")\n"
   ]
  },
  {
   "cell_type": "markdown",
   "id": "75cecc4c-8524-40cf-932e-994bab058755",
   "metadata": {},
   "source": [
    "***"
   ]
  },
  {
   "cell_type": "markdown",
   "id": "b5dff5a9-ac2c-4db7-9cf2-61aaddbf2b0d",
   "metadata": {},
   "source": [
    "**Como o gradiente se comporta na faixa de 150 a 300 L/s, mantendo as dimensões do floculador?**"
   ]
  },
  {
   "cell_type": "code",
   "execution_count": 27,
   "id": "368d4183-17f5-413a-8f7c-ea81ed4e79e1",
   "metadata": {},
   "outputs": [
    {
     "data": {
      "image/png": "[encoded data removed]",
      "text/plain": [
       "<Figure size 1000x600 with 1 Axes>"
      ]
     },
     "metadata": {},
     "output_type": "display_data"
    }
   ],
   "source": [
    "vazao_menor = 150 # Vazão mínima em L/s.\n",
    "vazao_maior = 300 # Vazão máxima em L/s.\n",
    "\n",
    "# Criando listas para armazenar os dados\n",
    "vazoes = []\n",
    "gradientes = []\n",
    "\n",
    "for vazao in range(vazao_menor, vazao_maior+1):\n",
    "    Grad_final_nova = gradiente_floc(vazao, V, nc, Aesc, Rh, Lr, lcanal, espac, n_esp, g, Ro, mi)\n",
    "    \n",
    "    # Adicionando os valores às listas\n",
    "    vazoes.append(vazao)\n",
    "    gradientes.append(Grad_final_nova)\n",
    "\n",
    "# Criando o gráfico de dispersão\n",
    "plt.figure(figsize=(10, 6))\n",
    "plt.scatter(vazoes, gradientes, color='blue', label='Vazão x Gradiente')\n",
    "plt.title('Gráfico de Dispersão: Vazão x Contagem')\n",
    "plt.xlabel('Vazão')\n",
    "plt.ylabel('Gradiente de Velocidade (1/s)')\n",
    "plt.legend()\n",
    "plt.grid(True)\n",
    "plt.show()"
   ]
  },
  {
   "cell_type": "markdown",
   "id": "89447782-bb64-440c-bd62-5592dfb3bdd2",
   "metadata": {},
   "source": [
    "### Fim do roteiro\n",
    "**https://github.com/lnrddev/**"
   ]
  }
 ],
 "metadata": {
  "kernelspec": {
   "display_name": "Python [conda env:anaconda3]",
   "language": "python",
   "name": "conda-env-anaconda3-py"
  },
  "language_info": {
   "codemirror_mode": {
    "name": "ipython",
    "version": 3
   },
   "file_extension": ".py",
   "mimetype": "text/x-python",
   "name": "python",
   "nbconvert_exporter": "python",
   "pygments_lexer": "ipython3",
   "version": "3.11.5"
  }
 },
 "nbformat": 4,
 "nbformat_minor": 5
}
