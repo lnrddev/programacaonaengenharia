{
 "cells": [
  {
   "cell_type": "markdown",
   "id": "f3e65d2c",
   "metadata": {},
   "source": [
    "# Dimensionamento de floculador mecânico"
   ]
  },
  {
   "cell_type": "markdown",
   "id": "81189808",
   "metadata": {},
   "source": [
    "- Roteiro de cálculo adaptado do Exemplo 3-4 do livro de Seckler Filho (2017). Recomenda-se a aquisição do bibliografia de referência (https://www.grupogen.com.br/tratamento-de-agua).\n",
    "- Use por sua conta e risco. Roteiro em desenvolvimento.\n",
    "\n",
    "**Prof. Leonardo Damasceno - leonardo.damasceno@unifal-mg.edu.br**\n",
    "\n",
    "<span style=\"color:red\">**ATENÇÃO!**</span> Executar o roteiro passo a passo adotando os valores intermediários quando necessário."
   ]
  },
  {
   "cell_type": "markdown",
   "id": "8315f0d4-6fbd-43b2-bc32-f3a891c56144",
   "metadata": {},
   "source": [
    "### Bibliotecas"
   ]
  },
  {
   "cell_type": "code",
   "execution_count": 1,
   "id": "b3d441de-23e6-4b9e-a34a-aa732686e4b4",
   "metadata": {},
   "outputs": [],
   "source": [
    "import math"
   ]
  },
  {
   "cell_type": "markdown",
   "id": "90ec5d04-aa5a-468c-b4ed-831a39017514",
   "metadata": {},
   "source": [
    "### Dados de entrada"
   ]
  },
  {
   "cell_type": "code",
   "execution_count": 2,
   "id": "f21cf5d3-8c6b-4ebb-8047-e2c5f79bd2ac",
   "metadata": {},
   "outputs": [],
   "source": [
    "vazao = 600 # Vazão de operação em L/s.\n",
    "tdh_min = 20 # Tempo de detenção hidráulica MÍNIMO em minutos.\n",
    "tdh_max = 40 # Tempo de detenção hidráulica MÁXIMO em minutos.\n",
    "grad_min = 20 # Gradiente de velocidade MÍNIMO em s-1.\n",
    "grad_max = 80 # Gradiente de velocidade MÁXIMO em s-1.\n",
    "h = 4.5 # Profundidade da lâmina de água.\n",
    "L = 20 # Largura da unidade (baseada na largura útil da unidade de sedimentação).\n",
    "\n",
    "temperatura = 20 # Temperatura em graus Celsius.\n",
    "g = 9.81 # Aceleração da gravidade (m/s2)\n",
    "mi = 1.002e-3 # Viscosidade cinemática (N.s)/m2\n",
    "Ro = 998.2 # Densidade da água (kg/m^3)\n",
    "Kt = 1.3 # Número de potência igual a 5 para turbina de fluxo axial.\n",
    "rend = 0.6 # Rendimento global do motor e sistema elétrico de acionamento (Padrão de 60%)."
   ]
  },
  {
   "cell_type": "code",
   "execution_count": 3,
   "id": "7413d654",
   "metadata": {},
   "outputs": [
    {
     "name": "stdout",
     "output_type": "stream",
     "text": [
      "Volume mínimo do reator: 720.00 m^3\n",
      "Volume máximo do reator: 1440.00 m^3\n",
      "Comprimento mínimo do floculador: 8.00 m\n",
      "Comprimento máximo do floculador: 16.00 m\n"
     ]
    }
   ],
   "source": [
    "Vmin = (vazao/1000)*tdh_min*60 # Volume mínimo do reator em m^3.\n",
    "Vmax = (vazao/1000)*tdh_max*60 # Volume máximo do reator em m^3.\n",
    "Cmin = Vmin/(L*h) # Comprimento mínimo do floculador em metros.\n",
    "Cmax = Vmax/(L*h) # Comprimento máximo do floculador em metros.\n",
    "\n",
    "print(\"Volume mínimo do reator: {:.2f} m^3\".format(Vmin))\n",
    "print(\"Volume máximo do reator: {:.2f} m^3\".format(Vmax))\n",
    "print(\"Comprimento mínimo do floculador: {:.2f} m\".format(Cmin))\n",
    "print(\"Comprimento máximo do floculador: {:.2f} m\".format(Cmax))"
   ]
  },
  {
   "cell_type": "code",
   "execution_count": 4,
   "id": "04332e72",
   "metadata": {},
   "outputs": [
    {
     "name": "stdout",
     "output_type": "stream",
     "text": [
      "Largura útil do floculador: 19.10 m\n",
      "Largura de cada câmara: 4.78 m\n",
      "Comprimento útil do floculador: 14.33 m\n",
      "Volume de cada câmara: 102.60 m^3\n",
      "Tempo de detenção hidráulica: 34.20 minutos\n",
      "Potência mínima: 41.12 W\n",
      "Potência máxima: 657.97 W\n",
      "Diâmetro equivalente: 5.40 m\n"
     ]
    }
   ],
   "source": [
    "nc = 3 # Número de câmaras de floculação em série.\n",
    "np = 4 # Número de canais em paralelo.\n",
    "C = 15 # Comprimento do floculador em metros (adotar valor entre o comprimento mínimo e máximo).\n",
    "esp_paredes = 30 # Espessura das paredes do floculador em cm (padrão igual a 30 cm).\n",
    "\n",
    "Lutil = L - ((np-1)*esp_paredes/100) # Largura útil do floculador em metros.\n",
    "Lcamara = Lutil/np # Largura de cada câmara em metros.\n",
    "\n",
    "Cutil = Lcamara*nc # Comprimento útil do floculador em metros.\n",
    "Vcamara = Lcamara*Lcamara*h # Volume de cada câmara em m^3.\n",
    "TDH = ((nc*np)*Lcamara*Lcamara*h)/((vazao/1000)*60) # Tempo de detenção hidráulica em minutos.\n",
    "Pot_min = mi*Vcamara*(grad_min**2) # Potência mínima em W.\n",
    "Pot_max = mi*Vcamara*(grad_max**2) # Potência máxima em W.\n",
    "De = 1.13*math.sqrt(Lcamara**2)\n",
    "\n",
    "print(\"Largura útil do floculador: {:.2f} m\".format(Lutil))\n",
    "print(\"Largura de cada câmara: {:.2f} m\".format(Lcamara))\n",
    "print(\"Comprimento útil do floculador: {:.2f} m\".format(Cutil))\n",
    "print(\"Volume de cada câmara: {:.2f} m^3\".format(Vcamara))\n",
    "print(\"Tempo de detenção hidráulica: {:.2f} minutos\".format(TDH))\n",
    "print(\"Potência mínima: {:.2f} W\".format(Pot_min))\n",
    "print(\"Potência máxima: {:.2f} W\".format(Pot_max))\n",
    "print(\"Diâmetro equivalente: {:.2f} m\".format(De))"
   ]
  },
  {
   "cell_type": "code",
   "execution_count": 5,
   "id": "a67c929a",
   "metadata": {},
   "outputs": [
    {
     "name": "stdout",
     "output_type": "stream",
     "text": [
      "O diâmetro do rotor deverá estar entre 1.89 a 3.24 m\n"
     ]
    }
   ],
   "source": [
    "D_rotor_min=0.35*De\n",
    "D_rotor_max=0.6*De\n",
    "print(\"O diâmetro do rotor deverá estar entre\", round(D_rotor_min, 2), \"a\", round(D_rotor_max,2), \"m\")"
   ]
  },
  {
   "cell_type": "markdown",
   "id": "d7cdeefd",
   "metadata": {},
   "source": [
    "**Diâmetro do rotor adotado** <span style=\"color:red\">**ATENÇÃO!**</span>."
   ]
  },
  {
   "cell_type": "code",
   "execution_count": 6,
   "id": "274b3794",
   "metadata": {},
   "outputs": [
    {
     "name": "stdout",
     "output_type": "stream",
     "text": [
      "Rotação mínima: 4.1 rpm\n",
      "Rotação máxima: 10.4 rpm\n",
      "Velocidade periférica mínima: 0.54 m/s\n",
      "Velocidade periférica máxima: 1.36 m/s\n",
      "Potência total: 1096.62 W\n",
      "Potência total: 1.47 CV\n"
     ]
    }
   ],
   "source": [
    "D = 2.5 # Diámetro do rotor adotado (observar os limites mínimo e máximo acima determinados)\n",
    "\n",
    "n_min = ((Pot_min/ (Kt*Ro*(D**5)))**(1/3))*60 # Rotação mínima em rpm.\n",
    "n_max = ((Pot_max/ (Kt*Ro*(D**5)))**(1/3))*60 # Rotação máxima em rpm.\n",
    "vp_min = n_min*math.pi*D/60 # Velocidade periférica mínima em m/s.\n",
    "vp_max = n_max*math.pi*D/60 # Velocidade periférica máxima em m/s.\n",
    "\n",
    "print(\"Rotação mínima: {:.1f} rpm\".format(n_min))\n",
    "print(\"Rotação máxima: {:.1f} rpm\".format(n_max))\n",
    "print(\"Velocidade periférica mínima: {:.2f} m/s\".format(vp_min))\n",
    "print(\"Velocidade periférica máxima: {:.2f} m/s\".format(vp_max))\n",
    "\n",
    "if vp_min > 0.6:\n",
    "    print(\"A velocidade periférica mínima está acima do intervalo recomendado (igual ou inferior a 0.6 m/s).\")\n",
    "\n",
    "if vp_max > 2.5:\n",
    "    print(\"A velocidade periférica máxima está acima do intervalo recomendado (igual ou superior a 2.5 m/s).\")\n",
    "\n",
    "Pot = Pot_max/rend # Potência total em W.\n",
    "Pot_hp = Pot/745.7 # Potência total em CV.\n",
    "\n",
    "print(\"Potência total: {:.2f} W\".format(Pot))\n",
    "print(\"Potência total: {:.2f} CV\".format(Pot_hp))\n"
   ]
  }
 ],
 "metadata": {
  "kernelspec": {
   "display_name": "Python 3",
   "language": "python",
   "name": "python3"
  },
  "language_info": {
   "codemirror_mode": {
    "name": "ipython",
    "version": 3
   },
   "file_extension": ".py",
   "mimetype": "text/x-python",
   "name": "python",
   "nbconvert_exporter": "python",
   "pygments_lexer": "ipython3",
   "version": "3.11.5"
  }
 },
 "nbformat": 4,
 "nbformat_minor": 5
}
