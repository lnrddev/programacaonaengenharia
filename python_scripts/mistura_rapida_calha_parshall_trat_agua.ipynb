{
 "cells": [
  {
   "cell_type": "markdown",
   "id": "839ecce3-df2d-4427-bf34-c28b668ab66d",
   "metadata": {},
   "source": [
    "# Dimensionamento de unidade de mistura rápida com calha Parshall"
   ]
  },
  {
   "cell_type": "markdown",
   "id": "dad03b51-668a-42c7-b01d-8e28935811c6",
   "metadata": {},
   "source": [
    "- Roteiro de cálculo adaptado do Exemplo 2.2 do livro de Seckler Filho (2017). Recomenda-se a aquisição do bibliografia de referência (https://www.grupogen.com.br/tratamento-de-agua).\n",
    "- Use por sua conta e risco."
   ]
  },
  {
   "cell_type": "markdown",
   "id": "c32a2bc9-b2fd-4e04-914a-cbc7f96b7d6f",
   "metadata": {},
   "source": [
    "**Prof. Leonardo Damasceno - leonardo.damasceno@unifal-mg.edu.br**\n",
    "\n",
    "<span style=\"color:red\">**ATENÇÃO!**</span>. Executar o roteiro passo a passo adotando os valores intermediários se necessário."
   ]
  },
  {
   "cell_type": "markdown",
   "id": "fa6d6447-2394-4c8e-89dd-19a95c89f816",
   "metadata": {},
   "source": [
    "### Bibliotecas"
   ]
  },
  {
   "cell_type": "code",
   "execution_count": 5,
   "id": "5a3b1935-dadd-44f0-96f8-872b71c5e21e",
   "metadata": {},
   "outputs": [],
   "source": [
    "import math\n",
    "import matplotlib.pyplot as plt"
   ]
  },
  {
   "cell_type": "markdown",
   "id": "ef51f9b2-00f8-4352-9e3a-4d7ef784c4b7",
   "metadata": {},
   "source": [
    "### Dados de entrada"
   ]
  },
  {
   "cell_type": "code",
   "execution_count": 7,
   "id": "5f4d968b-f8a1-487d-9874-c742b9051305",
   "metadata": {},
   "outputs": [],
   "source": [
    "vazao_inicio = 150 # Vazão do início da operação em L/s.\n",
    "vazao_final = 300 # Vazão do final da operação em L/s.\n",
    "\n",
    "g = 9.81 # Aceleração da gravidade (m/s2)\n",
    "mi = 1.002e-3 # Viscosidade cinemática (N.s)/m2\n",
    "Ro = 998.2 # Densidade da água (kg/m^3)"
   ]
  },
  {
   "cell_type": "code",
   "execution_count": 8,
   "id": "97c52969-bdc2-43d5-855f-bbaaa1d58620",
   "metadata": {},
   "outputs": [],
   "source": [
    "# Dimensões da calha\n",
    "D = 84.5\n",
    "W = 30.5\n",
    "N = 22.9\n",
    "K = 7.6\n",
    "C = 61\n",
    "G = 91.5\n",
    "# Dados da equação de descarga\n",
    "B = 1.253\n",
    "m = 0.645"
   ]
  },
  {
   "cell_type": "markdown",
   "id": "2b083b3f-c080-4df8-a8b2-2bb990eee8a3",
   "metadata": {},
   "source": [
    "### Função para determinação do gradiente de mistura na calha"
   ]
  },
  {
   "cell_type": "code",
   "execution_count": 10,
   "id": "7f1ac7ca-1994-4026-82d1-14526149f93c",
   "metadata": {},
   "outputs": [],
   "source": [
    "def gradiente_calha(vazao, g, mi, Ro, D, W, N, K, C, G, B,m):\n",
    "    h0 = B*((vazao/1000)**m)\n",
    "    D_linha = ((2/3 * (D-W))+W)/100\n",
    "    V0 = (vazao/1000)/(D_linha*h0)\n",
    "    H0 = h0 + (V0**2)/(2*g) + N/100\n",
    "    cos_teta = math.acos(-(g*vazao/1000)/((W/100)*((0.67*g*H0)**(3/2))))\n",
    "    V1 = 2 * math.cos(cos_teta/3) * ((2*g*H0)/3)**(1/2)\n",
    "    y1 = H0 - ((V1**2)/(2*g))\n",
    "    Fr = V1/math.sqrt(g*y1)\n",
    "    y2 = (y1/2) * (math.sqrt(1+(8*(Fr**2)))-1)\n",
    "    yd = (y2 - (N/100) + (K/100))\n",
    "    Vd = (vazao/1000)/(yd*C/100)\n",
    "    delta_H = h0 + (N/100) - y2\n",
    "    TDH = (G/100)/((V1+Vd)/2)\n",
    "    Grad = math.sqrt((Ro*g*delta_H)/(mi*TDH))\n",
    "    return h0, D_linha, V0, H0, cos_teta, V1, y1, Fr, y2, yd, Vd, delta_H, TDH, Grad"
   ]
  },
  {
   "cell_type": "markdown",
   "id": "10aa5eee-4661-4bf1-bbd1-6fe49c90d587",
   "metadata": {},
   "source": [
    "### Aplicação"
   ]
  },
  {
   "cell_type": "code",
   "execution_count": 12,
   "id": "a60a1266-1636-40ad-8aec-91cd94cbc6df",
   "metadata": {},
   "outputs": [],
   "source": [
    "h0, D_linha, V0, H0, cos_teta, V1, y1, Fr, y2, yd, Vd, delta_H, TDH, Grad = gradiente_calha(vazao_final, g, mi, Ro, D, W, N, K, C, G, B,m)"
   ]
  },
  {
   "cell_type": "code",
   "execution_count": 13,
   "id": "a077893b-108c-4e84-9069-fcee3982f09a",
   "metadata": {
    "scrolled": true
   },
   "outputs": [
    {
     "name": "stdout",
     "output_type": "stream",
     "text": [
      "Altura na seção  de medição (h0): 0.58 m.\n",
      "Largura na seção  de medição (D'): 0.67 cm.\n",
      "Velocidade na seção  de medição (V0): 0.78 m/s.\n",
      "Carga hidráulica na seção  de medição (H0): 0.84 m.\n",
      "Ângulo Teta: 2.42 graus.\n",
      "Velocidade no início do ressalto hidráulico (V1): 3.24 m/s.\n",
      "Profundidade no início do ressalto hidráulico (V1): 0.30 m.\n",
      "Número de Froude (Fr): 1.89\n",
      "Profundidade conjugada no ressalto hidráulico (y2): 0.67 m.\n",
      "Profundidade da lâmina líquida (yd): 0.51 m.\n",
      "Velocidade no trecho divergente (Vd): 0.96 m/s.\n",
      "Energia dissipada (Delta H): 0.14 m.\n",
      "Tempo de detenção hidráulica (TDH): 0.44 s.\n",
      "Gradiente (Grad): 1764.24 1/s.\n"
     ]
    }
   ],
   "source": [
    "print(f\"Altura na seção  de medição (h0): {h0:.2f} m.\")\n",
    "print(f\"Largura na seção  de medição (D'): {D_linha:.2f} cm.\")\n",
    "print(f\"Velocidade na seção  de medição (V0): {V0:.2f} m/s.\")\n",
    "print(f\"Carga hidráulica na seção  de medição (H0): {H0:.2f} m.\")\n",
    "print(f\"Ângulo Teta: {cos_teta:.2f} graus.\")\n",
    "print(f\"Velocidade no início do ressalto hidráulico (V1): {V1:.2f} m/s.\")\n",
    "print(f\"Profundidade no início do ressalto hidráulico (V1): {y1:.2f} m.\")\n",
    "print(f\"Número de Froude (Fr): {Fr:.2f}\")\n",
    "print(f\"Profundidade conjugada no ressalto hidráulico (y2): {y2:.2f} m.\")\n",
    "print(f\"Profundidade da lâmina líquida (yd): {yd:.2f} m.\")\n",
    "print(f\"Velocidade no trecho divergente (Vd): {Vd:.2f} m/s.\")\n",
    "print(f\"Energia dissipada (Delta H): {delta_H:.2f} m.\")\n",
    "print(f\"Tempo de detenção hidráulica (TDH): {TDH:.2f} s.\")\n",
    "print(f\"Gradiente (Grad): {Grad:.2f} 1/s.\")\n"
   ]
  },
  {
   "cell_type": "markdown",
   "id": "d3668a8b-3de5-425b-9f7b-9426cdcc8d91",
   "metadata": {},
   "source": [
    "### Gráfico de gradiente em função da vazão inicial e final de operação"
   ]
  },
  {
   "cell_type": "code",
   "execution_count": 15,
   "id": "23feadd0-4a1a-4b81-b606-7645f52578b2",
   "metadata": {},
   "outputs": [
    {
     "ename": "ValueError",
     "evalue": "too many values to unpack (expected 12)",
     "output_type": "error",
     "traceback": [
      "\u001b[0;31m---------------------------------------------------------------------------\u001b[0m",
      "\u001b[0;31mValueError\u001b[0m                                Traceback (most recent call last)",
      "Cell \u001b[0;32mIn[15], line 6\u001b[0m\n\u001b[1;32m      3\u001b[0m gradientes \u001b[38;5;241m=\u001b[39m []\n\u001b[1;32m      5\u001b[0m \u001b[38;5;28;01mfor\u001b[39;00m vazao \u001b[38;5;129;01min\u001b[39;00m \u001b[38;5;28mrange\u001b[39m(vazao_inicio, vazao_final\u001b[38;5;241m+\u001b[39m\u001b[38;5;241m1\u001b[39m):\n\u001b[0;32m----> 6\u001b[0m     h0, V0, H0, cos_teta, V1, y1, Fr, yd, Vd, delta_H, TDH, Grad \u001b[38;5;241m=\u001b[39m gradiente_calha(vazao, g, mi, Ro, D, W, N, K, C, G, B,m)\n\u001b[1;32m      8\u001b[0m     \u001b[38;5;66;03m# Adicionando os valores às listas\u001b[39;00m\n\u001b[1;32m      9\u001b[0m     vazoes\u001b[38;5;241m.\u001b[39mappend(vazao)\n",
      "\u001b[0;31mValueError\u001b[0m: too many values to unpack (expected 12)"
     ]
    }
   ],
   "source": [
    "# Criando listas para armazenar os dados\n",
    "vazoes = []\n",
    "gradientes = []\n",
    "\n",
    "for vazao in range(vazao_inicio, vazao_final+1):\n",
    "    h0, D_linha, V0, H0, cos_teta, V1, y1, Fr, y2, yd, Vd, delta_H, TDH, Grad = gradiente_calha(vazao, g, mi, Ro, D, W, N, K, C, G, B,m)\n",
    "    \n",
    "    # Adicionando os valores às listas\n",
    "    vazoes.append(vazao)\n",
    "    gradientes.append(Grad)\n",
    "\n",
    "# Criando o gráfico de dispersão\n",
    "plt.figure(figsize=(10, 6))\n",
    "plt.scatter(vazoes, gradientes, color='blue', label='Vazão x Gradiente')\n",
    "plt.title('Gráfico de Dispersão: Vazão x Contagem')\n",
    "plt.xlabel('Vazão')\n",
    "plt.ylabel('Gradiente de Velocidade (1/s)')\n",
    "plt.legend()\n",
    "plt.grid(True)\n",
    "plt.show()"
   ]
  },
  {
   "cell_type": "markdown",
   "id": "89447782-bb64-440c-bd62-5592dfb3bdd2",
   "metadata": {},
   "source": [
    "### Fim do roteiro\n",
    "**https://pessoas.unifal-mg.edu.br/leonardodamasceno/**"
   ]
  }
 ],
 "metadata": {
  "kernelspec": {
   "display_name": "Python [conda env:anaconda3]",
   "language": "python",
   "name": "conda-env-anaconda3-py"
  },
  "language_info": {
   "codemirror_mode": {
    "name": "ipython",
    "version": 3
   },
   "file_extension": ".py",
   "mimetype": "text/x-python",
   "name": "python",
   "nbconvert_exporter": "python",
   "pygments_lexer": "ipython3",
   "version": "3.11.5"
  }
 },
 "nbformat": 4,
 "nbformat_minor": 5
}
