{
 "cells": [
  {
   "cell_type": "markdown",
   "id": "839ecce3-df2d-4427-bf34-c28b668ab66d",
   "metadata": {},
   "source": [
    "# Dimensionamento de unidade de mistura rápida com calha Parshall"
   ]
  },
  {
   "cell_type": "markdown",
   "id": "dad03b51-668a-42c7-b01d-8e28935811c6",
   "metadata": {},
   "source": [
    "- Roteiro de cálculo adaptado do Exemplo 2.2 do livro de Seckler Filho (2017). Recomenda-se a aquisição do bibliografia de referência (https://www.grupogen.com.br/tratamento-de-agua).\n",
    "- Use por sua conta e risco."
   ]
  },
  {
   "cell_type": "markdown",
   "id": "c32a2bc9-b2fd-4e04-914a-cbc7f96b7d6f",
   "metadata": {},
   "source": [
    "**Prof. Leonardo Damasceno - leonardo.damasceno@unifal-mg.edu.br**\n",
    "\n",
    "<span style=\"color:red\">**ATENÇÃO!**</span>. Executar o roteiro passo a passo adotando os valores intermediários se necessário."
   ]
  },
  {
   "cell_type": "markdown",
   "id": "fa6d6447-2394-4c8e-89dd-19a95c89f816",
   "metadata": {},
   "source": [
    "### Bibliotecas"
   ]
  },
  {
   "cell_type": "code",
   "execution_count": 5,
   "id": "5a3b1935-dadd-44f0-96f8-872b71c5e21e",
   "metadata": {},
   "outputs": [],
   "source": [
    "import math\n",
    "import matplotlib.pyplot as plt"
   ]
  },
  {
   "cell_type": "markdown",
   "id": "ef51f9b2-00f8-4352-9e3a-4d7ef784c4b7",
   "metadata": {},
   "source": [
    "### Dados de entrada"
   ]
  },
  {
   "cell_type": "code",
   "execution_count": 7,
   "id": "5f4d968b-f8a1-487d-9874-c742b9051305",
   "metadata": {},
   "outputs": [],
   "source": [
    "vazao_inicio = 150 # Vazão do início da operação em L/s.\n",
    "vazao_final = 300 # Vazão do final da operação em L/s.\n",
    "\n",
    "g = 9.81 # Aceleração da gravidade (m/s2)\n",
    "mi = 1.002e-3 # Viscosidade cinemática (N.s)/m2\n",
    "Ro = 998.2 # Densidade da água (kg/m^3)"
   ]
  },
  {
   "cell_type": "markdown",
   "id": "650b5818-b598-41e8-be07-cb0c354d408e",
   "metadata": {},
   "source": [
    "<span style=\"color:red\">**ATENÇÃO!**</span> **Escolha da calha Parshall a ser utilizada** \n",
    "\n",
    "Observação: a escolha deverá ser feita em função das vazões de início e de final. A vazão máxima da calha deve comportar a vazão máxima do final de operação."
   ]
  },
  {
   "cell_type": "markdown",
   "id": "12dee575-de39-4324-a2a3-b8a0f023880e",
   "metadata": {},
   "source": [
    "<center>Tabela 1. Dimensões padronizadas da calha Parshall</center>"
   ]
  },
  {
   "cell_type": "markdown",
   "id": "c6c47d60-87a4-4bf2-b91a-778515470e08",
   "metadata": {},
   "source": [
    "| W            | A     | B     | C     | D      | E      | F      | G    | K    | N    | X    | Y    | Vazão com escoamento livre (L/s) |\n",
    "|--------------|-------|-------|-------|--------|--------|--------|------|------|------|------|------|----------------------------------|\n",
    "| 1\" - 2.5 cm  | 36.3  | 35.6  | 9.3   | 16.8   | 22.9   | 7.6    | 20.3 | 1.9  | 2.9  | -    | -    | 0.3 – 5.0                        |\n",
    "| 3\" - 7.6 cm  | 46.6  | 45.7  | 17.8  | 25.9   | 45.7   | 15.2   | 30.5 | 2.5  | 5.7  | 2.5  | 3.8  | 0.8 – 53.8                       |\n",
    "| 6\" - 15.2 cm | 61.0  | 61.0  | 39.4  | 40.3   | 61.0   | 30.5   | 61.0 | 7.6  | 11.4 | 5.1  | 7.6  | 1.4 – 110.4                      |\n",
    "| 9\" - 22.9 cm | 88.0  | 86.4  | 38.0  | 57.5   | 76.3   | 61.0   | 45.7 | 7.6  | 11.4 | 5.1  | 7.6  | 2.5 – 252.0                      |\n",
    "| 1' - 30.5 cm | 137.2 | 134.4 | 61.0  | 84.5   | 91.5   | 61.0   | 91.5 | 7.6  | 22.9 | 5.1  | 7.6  | 3.1 – 455.9                      |\n",
    "| 1 1/2' - 45.7 cm | 144.9 | 142.0 | 76.2  | 102.6  | 91.5   | 61.0   | 91.5 | 7.6  | 22.9 | 5.1  | 7.6  | 4.2 – 696.6                      |\n",
    "| 2' - 61.0 cm | 152.5 | 149.6 | 91.5  | 120.7  | 91.5   | 61.0   | 91.5 | 7.6  | 22.9 | 5.1  | 7.6  | 11.9 – 937.3                     |\n",
    "| 3' - 91.5 cm | 167.7 | 164.5 | 122.0 | 157.2  | 91.5   | 61.0   | 91.5 | 7.6  | 22.9 | 5.1  | 7.6  | 17.3 – 1427.2                   |\n",
    "| 4' - 122.0 cm | 183.0 | 179.5 | 152.5 | 193.8  | 91.5   | 61.0   | 91.5 | 7.6  | 22.9 | 5.1  | 7.6  | 36.8 – 1922.7                   |\n",
    "| 5' - 152.5 cm | 198.3 | 194.1 | 183.0 | 230.3  | 91.5   | 61.0   | 91.5 | 7.6  | 22.9 | 5.1  | 7.6  | 45.3 – 2423.9                   |\n",
    "| 6' - 183.0 cm | 213.5 | 209.0 | 213.5 | 266.7  | 91.5   | 61.0   | 91.5 | 7.6  | 22.9 | 5.1  | 7.6  | 73.6 – 2930.8                   |\n",
    "| 7' - 213.5 cm | 228.8 | 224.0 | 244.0 | 303.0  | 91.5   | 61.0   | 91.5 | 7.6  | 22.9 | 5.1  | 7.6  | 85.0 – 3437.7                   |\n",
    "| 8' - 244.0 cm | 244.0 | 239.2 | 274.5 | 349.0  | 91.5   | 61.0   | 91.5 | 7.6  | 22.9 | 5.1  | 7.6  | 99.1 – 3950.2                   |\n",
    "| 10' - 305.0 cm | 274.5 | 427.0 | 366.0 | 475.9  | 122.0  | 91.5   | 183.0 | 15.3 | 34.3 | -    | -    | 200.0 – 5660.0                  |\n"
   ]
  },
  {
   "cell_type": "code",
   "execution_count": 11,
   "id": "97c52969-bdc2-43d5-855f-bbaaa1d58620",
   "metadata": {},
   "outputs": [],
   "source": [
    "# Dimensões da calha em cm - Inserir os dados obtidos na tabela acima de acordo com a vazão de projeto\n",
    "W = 30.5\n",
    "C = 61\n",
    "D = 84.5\n",
    "G = 91.5\n",
    "K = 7.6\n",
    "N = 22.9"
   ]
  },
  {
   "attachments": {},
   "cell_type": "markdown",
   "id": "008a3c9f-ff12-4bde-8fa6-1644730fd393",
   "metadata": {},
   "source": [
    "<span style=\"color:red\">**ATENÇÃO!**</span> A partir da escolha da calha, determine os valores de **B** e **m** a partir da Tabela 2."
   ]
  },
  {
   "cell_type": "markdown",
   "id": "cecff5d4-c0a2-47cd-89a0-a56f14bc5cd4",
   "metadata": {},
   "source": [
    "<center> Tabela 2. Equações de descarga em função da largura da garganta W da calha Parshall</center>"
   ]
  },
  {
   "cell_type": "markdown",
   "id": "7f8f4388-d1c6-4083-a1da-57627413bddb",
   "metadata": {},
   "source": [
    "| W            | C (Q em m³/s e h₀ em m) | n     | B (Q em m³/s e h₀ em m) | m     |\n",
    "|--------------|--------------------------|-------|--------------------------|-------|\n",
    "| 1\" - 2.5 cm  | 0.060                   | 1.550 | 6.122                   | 0.645 |\n",
    "| 3\" - 7.6 cm  | 0.177                   | 1.550 | 3.057                   | 0.645 |\n",
    "| 6\" - 15.2 cm | 0.381                   | 1.580 | 1.842                   | 0.633 |\n",
    "| 9\" - 22.9 cm | 0.535                   | 1.530 | 1.505                   | 0.654 |\n",
    "| 1' - 30.5 cm | 0.705                   | 1.550 | 1.253                   | 0.645 |\n",
    "| 1 1/2' - 45.7 cm | 1.055               | 1.538 | 0.966                   | 0.650 |\n",
    "| 2' - 61.0 cm | 1.427                   | 1.550 | 0.795                   | 0.645 |\n",
    "| 3' - 91.5 cm | 2.192                   | 1.570 | 0.607                   | 0.637 |\n",
    "| 4' - 122.0 cm | 2.958                  | 1.580 | 0.503                   | 0.633 |\n",
    "| 5' - 152.5 cm | 3.741                  | 1.590 | 0.436                   | 0.629 |\n",
    "| 6' - 183.0 cm | 4.490                  | 1.590 | 0.389                   | 0.629 |\n",
    "| 7' - 213.5 cm | 6.130                  | 1.610 | 0.324                   | 0.621 |\n",
    "| 8' - 244.0 cm | 7.455                  | 1.600 | 0.285                   | 0.625 |\n",
    "| 10' - 305.0 cm | 1.427                 | 1.550 | 6.122                   | 0.645 |"
   ]
  },
  {
   "cell_type": "code",
   "execution_count": 15,
   "id": "bab7245b-ee1c-4a06-b8ef-c3025202f99c",
   "metadata": {},
   "outputs": [],
   "source": [
    "# Dados da equação de descarga - Inserir os dados obtidos na Tabela 2 a partir da calha escolhida (W)\n",
    "B = 1.253\n",
    "m = 0.645"
   ]
  },
  {
   "cell_type": "markdown",
   "id": "2b083b3f-c080-4df8-a8b2-2bb990eee8a3",
   "metadata": {},
   "source": [
    "### Função para determinação do gradiente de mistura na calha"
   ]
  },
  {
   "cell_type": "code",
   "execution_count": 17,
   "id": "7f1ac7ca-1994-4026-82d1-14526149f93c",
   "metadata": {},
   "outputs": [],
   "source": [
    "def gradiente_calha(vazao, g, mi, Ro, D, W, N, K, C, G, B,m):\n",
    "    h0 = B*((vazao/1000)**m)\n",
    "    D_linha = ((2/3 * (D-W))+W)/100\n",
    "    V0 = (vazao/1000)/(D_linha*h0)\n",
    "    H0 = h0 + (V0**2)/(2*g) + N/100\n",
    "    cos_teta = math.acos(-(g*vazao/1000)/((W/100)*((0.67*g*H0)**(3/2))))\n",
    "    V1 = 2 * math.cos(cos_teta/3) * ((2*g*H0)/3)**(1/2)\n",
    "    y1 = H0 - ((V1**2)/(2*g))\n",
    "    Fr = V1/math.sqrt(g*y1)\n",
    "    y2 = (y1/2) * (math.sqrt(1+(8*(Fr**2)))-1)\n",
    "    yd = (y2 - (N/100) + (K/100))\n",
    "    Vd = (vazao/1000)/(yd*C/100)\n",
    "    delta_H = h0 + (N/100) - y2\n",
    "    TDH = (G/100)/((V1+Vd)/2)\n",
    "    Grad = math.sqrt((Ro*g*delta_H)/(mi*TDH))\n",
    "    return h0, D_linha, V0, H0, cos_teta, V1, y1, Fr, y2, yd, Vd, delta_H, TDH, Grad"
   ]
  },
  {
   "cell_type": "markdown",
   "id": "10aa5eee-4661-4bf1-bbd1-6fe49c90d587",
   "metadata": {},
   "source": [
    "### Aplicação"
   ]
  },
  {
   "cell_type": "code",
   "execution_count": 19,
   "id": "a60a1266-1636-40ad-8aec-91cd94cbc6df",
   "metadata": {},
   "outputs": [],
   "source": [
    "h0, D_linha, V0, H0, cos_teta, V1, y1, Fr, y2, yd, Vd, delta_H, TDH, Grad = gradiente_calha(vazao_final, g, mi, Ro, D, W, N, K, C, G, B, m)"
   ]
  },
  {
   "cell_type": "code",
   "execution_count": 20,
   "id": "a077893b-108c-4e84-9069-fcee3982f09a",
   "metadata": {
    "scrolled": true
   },
   "outputs": [
    {
     "name": "stdout",
     "output_type": "stream",
     "text": [
      "Altura na seção  de medição (h0): 0.58 m.\n",
      "Largura na seção  de medição (D'): 0.67 cm.\n",
      "Velocidade na seção  de medição (V0): 0.78 m/s.\n",
      "Carga hidráulica na seção  de medição (H0): 0.84 m.\n",
      "Ângulo Teta: 2.42 graus.\n",
      "Velocidade no início do ressalto hidráulico (V1): 3.24 m/s.\n",
      "Profundidade no início do ressalto hidráulico (V1): 0.30 m.\n",
      "Número de Froude (Fr): 1.89\n",
      "Profundidade conjugada no ressalto hidráulico (y2): 0.67 m.\n",
      "Profundidade da lâmina líquida (yd): 0.51 m.\n",
      "Velocidade no trecho divergente (Vd): 0.96 m/s.\n",
      "Energia dissipada (Delta H): 0.14 m.\n",
      "Tempo de detenção hidráulica (TDH): 0.44 s.\n",
      "Gradiente (Grad): 1764.24 1/s.\n"
     ]
    }
   ],
   "source": [
    "print(f\"Altura na seção  de medição (h0): {h0:.2f} m.\")\n",
    "print(f\"Largura na seção  de medição (D'): {D_linha:.2f} cm.\")\n",
    "print(f\"Velocidade na seção  de medição (V0): {V0:.2f} m/s.\")\n",
    "print(f\"Carga hidráulica na seção  de medição (H0): {H0:.2f} m.\")\n",
    "print(f\"Ângulo Teta: {cos_teta:.2f} graus.\")\n",
    "print(f\"Velocidade no início do ressalto hidráulico (V1): {V1:.2f} m/s.\")\n",
    "print(f\"Profundidade no início do ressalto hidráulico (V1): {y1:.2f} m.\")\n",
    "print(f\"Número de Froude (Fr): {Fr:.2f}\")\n",
    "print(f\"Profundidade conjugada no ressalto hidráulico (y2): {y2:.2f} m.\")\n",
    "print(f\"Profundidade da lâmina líquida (yd): {yd:.2f} m.\")\n",
    "print(f\"Velocidade no trecho divergente (Vd): {Vd:.2f} m/s.\")\n",
    "print(f\"Energia dissipada (Delta H): {delta_H:.2f} m.\")\n",
    "print(f\"Tempo de detenção hidráulica (TDH): {TDH:.2f} s.\")\n",
    "print(f\"Gradiente (Grad): {Grad:.2f} 1/s.\")\n"
   ]
  },
  {
   "cell_type": "markdown",
   "id": "d3668a8b-3de5-425b-9f7b-9426cdcc8d91",
   "metadata": {},
   "source": [
    "### Gráfico de gradiente em função da vazão inicial e final de operação"
   ]
  },
  {
   "cell_type": "code",
   "execution_count": 22,
   "id": "23feadd0-4a1a-4b81-b606-7645f52578b2",
   "metadata": {},
   "outputs": [
    {
     "data": {
      "image/png": "[encoded data removed]",
      "text/plain": [
       "<Figure size 1000x600 with 1 Axes>"
      ]
     },
     "metadata": {},
     "output_type": "display_data"
    }
   ],
   "source": [
    "# Criando listas para armazenar os dados\n",
    "vazoes = []\n",
    "gradientes = []\n",
    "\n",
    "for vazao in range(vazao_inicio, vazao_final+1):\n",
    "    h0, D_linha, V0, H0, cos_teta, V1, y1, Fr, y2, yd, Vd, delta_H, TDH, Grad = gradiente_calha(vazao, g, mi, Ro, D, W, N, K, C, G, B, m)\n",
    "    \n",
    "    # Adicionando os valores às listas\n",
    "    vazoes.append(vazao)\n",
    "    gradientes.append(Grad)\n",
    "\n",
    "# Criando o gráfico de dispersão\n",
    "plt.figure(figsize=(10, 6))\n",
    "plt.scatter(vazoes, gradientes, color='blue', label='Vazão x Gradiente')\n",
    "plt.title('Gráfico de Dispersão: Vazão x Contagem')\n",
    "plt.xlabel('Vazão')\n",
    "plt.ylabel('Gradiente de Velocidade (1/s)')\n",
    "plt.legend()\n",
    "plt.grid(True)\n",
    "plt.show()"
   ]
  },
  {
   "cell_type": "markdown",
   "id": "89447782-bb64-440c-bd62-5592dfb3bdd2",
   "metadata": {},
   "source": [
    "### Fim do roteiro\n",
    "**https://github.com/lnrddev/**"
   ]
  },
  {
   "cell_type": "code",
   "execution_count": null,
   "id": "6cfa6473-3753-4b52-8426-c6f0fdd93a19",
   "metadata": {},
   "outputs": [],
   "source": []
  }
 ],
 "metadata": {
  "kernelspec": {
   "display_name": "Python [conda env:anaconda3]",
   "language": "python",
   "name": "conda-env-anaconda3-py"
  },
  "language_info": {
   "codemirror_mode": {
    "name": "ipython",
    "version": 3
   },
   "file_extension": ".py",
   "mimetype": "text/x-python",
   "name": "python",
   "nbconvert_exporter": "python",
   "pygments_lexer": "ipython3",
   "version": "3.11.5"
  }
 },
 "nbformat": 4,
 "nbformat_minor": 5
}
