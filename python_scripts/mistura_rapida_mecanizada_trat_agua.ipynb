{
 "cells": [
  {
   "cell_type": "markdown",
   "id": "839ecce3-df2d-4427-bf34-c28b668ab66d",
   "metadata": {},
   "source": [
    "# Dimensionamento de unidade de mistura rápida mecanizada"
   ]
  },
  {
   "cell_type": "markdown",
   "id": "dad03b51-668a-42c7-b01d-8e28935811c6",
   "metadata": {},
   "source": [
    "- Roteiro de cálculo adaptado do Exemplo 2.1 do livro de Seckler Filho (2017).**\n",
    "- Recomenda-se a aquisição do bibliografia de referência (https://www.grupogen.com.br/tratamento-de-agua).**"
   ]
  },
  {
   "cell_type": "markdown",
   "id": "c32a2bc9-b2fd-4e04-914a-cbc7f96b7d6f",
   "metadata": {},
   "source": [
    "**Prof. Leonardo Damasceno - leonardo.damasceno@unifal-mg.edu.br**\n",
    "\n",
    "<span style=\"color:red\">**ATENÇÃO!**</span>. Executar o roteiro passo a passo adotando os valores intermediários quando necessário. "
   ]
  },
  {
   "cell_type": "markdown",
   "id": "fa6d6447-2394-4c8e-89dd-19a95c89f816",
   "metadata": {},
   "source": [
    "### Bibliotecas"
   ]
  },
  {
   "cell_type": "code",
   "execution_count": 5,
   "id": "5a3b1935-dadd-44f0-96f8-872b71c5e21e",
   "metadata": {},
   "outputs": [],
   "source": [
    "import math"
   ]
  },
  {
   "cell_type": "markdown",
   "id": "ef51f9b2-00f8-4352-9e3a-4d7ef784c4b7",
   "metadata": {},
   "source": [
    "### Dados de entrada"
   ]
  },
  {
   "cell_type": "code",
   "execution_count": 7,
   "id": "5f4d968b-f8a1-487d-9874-c742b9051305",
   "metadata": {},
   "outputs": [],
   "source": [
    "vazao = 500 # Vazão em L/s.\n",
    "tdh = 30 # Tempo de detenção hidráulica em segundos. Adotar entre 10 e 30 segundos.\n",
    "mi = 1.002e-3 # Viscosidade cinemática (N.s)/m2\n",
    "Ro = 998.2 # Densidade da água (kg/m^3)\n",
    "G = 500 # Gradiente (s^-1). Utilizar gradiente entre 300 e 1000 s^-1\n",
    "Ef = 60 # Rendimento do motor e sistema elétrico (%)."
   ]
  },
  {
   "cell_type": "markdown",
   "id": "78beecd5-24bb-4f82-95bc-a6526cdd673b",
   "metadata": {},
   "source": [
    "## Dimensões da câmara de mistura rápida\n",
    "\n",
    "Considerações:\n",
    "- Tanque de seção quadrada (Área = L^2).\n",
    "- Profundidade equivalente ao dobro da largura (Profundidade=2*L)."
   ]
  },
  {
   "cell_type": "markdown",
   "id": "e6f350b8-82aa-4ed9-8c8a-c9d1ee6e484d",
   "metadata": {},
   "source": [
    "**Dimensões calculadas da câmara**"
   ]
  },
  {
   "cell_type": "code",
   "execution_count": 10,
   "id": "5a61f2ba-169d-48eb-9e0d-9a966371e954",
   "metadata": {},
   "outputs": [
    {
     "name": "stdout",
     "output_type": "stream",
     "text": [
      "15.0 m³\n"
     ]
    }
   ],
   "source": [
    "V = (tdh*vazao)/1000 ; print(V, \"m³\")"
   ]
  },
  {
   "cell_type": "code",
   "execution_count": 11,
   "id": "5a379b02-2fe9-4034-a15f-d50583fa4b1a",
   "metadata": {},
   "outputs": [
    {
     "name": "stdout",
     "output_type": "stream",
     "text": [
      "Largura calculada: 1.96 m\n",
      "Profundidade calculada: 3.91 m\n"
     ]
    }
   ],
   "source": [
    "L = (V/2)**(1/3); print(\"Largura calculada:\", round(L,2), \"m\")\n",
    "H = 2*L; print(\"Profundidade calculada:\", round(H,2), \"m\")"
   ]
  },
  {
   "cell_type": "markdown",
   "id": "5c8a2bff-4ff1-4ab8-9cf9-a906818ee135",
   "metadata": {},
   "source": [
    "**Dimensões adotadas da câmara** <span style=\"color:red\">**ATENÇÃO!**</span>."
   ]
  },
  {
   "cell_type": "code",
   "execution_count": 13,
   "id": "caadca97-5fd0-45d1-92ad-080e1f9cac55",
   "metadata": {},
   "outputs": [],
   "source": [
    "L = 2.0 # Largura em metros.\n",
    "H = 3.5 # Profundidade em metros."
   ]
  },
  {
   "cell_type": "markdown",
   "id": "23c12fa4-8b11-4478-a2aa-564094cef746",
   "metadata": {},
   "source": [
    "**Volume calculado**"
   ]
  },
  {
   "cell_type": "code",
   "execution_count": 15,
   "id": "3286ce3a-53f4-4c80-bb1d-c634a6278263",
   "metadata": {},
   "outputs": [
    {
     "name": "stdout",
     "output_type": "stream",
     "text": [
      "Volume calculado: 14.0 m³\n"
     ]
    }
   ],
   "source": [
    "V = L*L*H ; print(\"Volume calculado:\", V, \"m³\")"
   ]
  },
  {
   "cell_type": "markdown",
   "id": "c7f54cd2-cce7-41b8-bef6-6e8002da6f06",
   "metadata": {},
   "source": [
    "### Equipamento de agitação\n",
    "\n",
    "Considerações:\n",
    "- Tipo turbina e fluxo radial.\n",
    "- Número de potência igual a 5.0."
   ]
  },
  {
   "cell_type": "markdown",
   "id": "7fdfe358-8c01-4cbd-b2d5-7dad8c3b4293",
   "metadata": {},
   "source": [
    "**Potência líquida**"
   ]
  },
  {
   "cell_type": "code",
   "execution_count": 18,
   "id": "615c24d4-4f8e-4d10-bbb3-253010b510fc",
   "metadata": {},
   "outputs": [],
   "source": [
    "Kt = 5 # Número de potência igual a 5 para turbina de fluxo radial."
   ]
  },
  {
   "cell_type": "code",
   "execution_count": 19,
   "id": "187a6fdb-355b-454e-8223-1dda3feedd80",
   "metadata": {},
   "outputs": [
    {
     "name": "stdout",
     "output_type": "stream",
     "text": [
      "Potência:  3507.0 W\n"
     ]
    }
   ],
   "source": [
    "Pot = mi*V*(G**2) ; print(\"Potência: \", Pot, \"W\")"
   ]
  },
  {
   "cell_type": "markdown",
   "id": "04196a64-dec2-493f-b817-981b9ce88a57",
   "metadata": {},
   "source": [
    "**Diâmetro do rotor**"
   ]
  },
  {
   "cell_type": "code",
   "execution_count": 21,
   "id": "6d9fec65-34a8-4ecd-9763-b37ab4e45a1f",
   "metadata": {},
   "outputs": [
    {
     "name": "stdout",
     "output_type": "stream",
     "text": [
      "De= 2.26 m\n"
     ]
    }
   ],
   "source": [
    "De=1.13*math.sqrt(L**2) # Diâmetro equivalente em metros.\n",
    "print(\"De=\", De, \"m\")"
   ]
  },
  {
   "cell_type": "code",
   "execution_count": 22,
   "id": "6f04f794-65f1-4177-af96-5ea76c9e27cd",
   "metadata": {},
   "outputs": [
    {
     "name": "stdout",
     "output_type": "stream",
     "text": [
      "O diâmetro do rotor deverá estar entre 0.56 a 0.9 m\n"
     ]
    }
   ],
   "source": [
    "D_rotor_min=0.25*De\n",
    "D_rotor_max=0.4*De\n",
    "print(\"O diâmetro do rotor deverá estar entre\", round(D_rotor_min, 2), \"a\", round(D_rotor_max,2), \"m\")"
   ]
  },
  {
   "cell_type": "markdown",
   "id": "dd4a7215-ff2e-48a7-8af0-2f9251141c8c",
   "metadata": {},
   "source": [
    "**Diâmetro do rotor adotado** <span style=\"color:red\">**ATENÇÃO!**</span>."
   ]
  },
  {
   "cell_type": "code",
   "execution_count": 8,
   "id": "876bcc8a-4221-412b-902b-251571189ec5",
   "metadata": {},
   "outputs": [],
   "source": [
    "D = 0.8 # Diámetro do rotor adotado (observar os limites mínimo e máximo acima determinados)"
   ]
  },
  {
   "cell_type": "markdown",
   "id": "8b15b17e-323c-4740-8b95-c279808eddd0",
   "metadata": {},
   "source": [
    "**Rotação a ser utilizada**"
   ]
  },
  {
   "cell_type": "code",
   "execution_count": 26,
   "id": "1fd2ef49-59b2-479d-8616-4b86c5fb0f39",
   "metadata": {
    "scrolled": true
   },
   "outputs": [
    {
     "name": "stdout",
     "output_type": "stream",
     "text": [
      "Rotação (n) = 77.0 rpm\n"
     ]
    }
   ],
   "source": [
    "n = ((Pot / (Kt*Ro*(D**5)))**(1/3))*60 ; print(\"Rotação (n) =\", round(n,0), \"rpm\")"
   ]
  },
  {
   "cell_type": "markdown",
   "id": "6b083a5f-0c84-4b90-aa32-0d8db0355c19",
   "metadata": {},
   "source": [
    "**Potência real e consumo de energia**"
   ]
  },
  {
   "cell_type": "code",
   "execution_count": 28,
   "id": "7fff5269-7bf1-49dc-97a3-354fe76bbf74",
   "metadata": {},
   "outputs": [
    {
     "name": "stdout",
     "output_type": "stream",
     "text": [
      "Potência do conjunto de agitação (P real): 5845.0 W\n",
      "Potência do conjunto de agitação (P real): 7.95 CV\n"
     ]
    }
   ],
   "source": [
    "Pot_real_W = Pot/(Ef/100)\n",
    "Pot_real_CV = Pot_real_W*0.00135962\n",
    "print(\"Potência do conjunto de agitação (P real):\", Pot_real_W, \"W\")\n",
    "print(\"Potência do conjunto de agitação (P real):\", round(Pot_real_CV, 2), \"CV\")"
   ]
  },
  {
   "cell_type": "code",
   "execution_count": 29,
   "id": "f2a549bc-1b0b-4eae-aef6-39b524970935",
   "metadata": {},
   "outputs": [
    {
     "name": "stdout",
     "output_type": "stream",
     "text": [
      "Consumo de energia (C): 140.0 kWh/dia.\n"
     ]
    }
   ],
   "source": [
    "C_energia = (Pot_real_W/1000)*24\n",
    "print(\"Consumo de energia (C):\", round(C_energia, 0), \"kWh/dia.\")"
   ]
  },
  {
   "cell_type": "markdown",
   "id": "5172ad8b-b6c9-4a26-8643-37c7810d4abe",
   "metadata": {},
   "source": [
    "**Resumo do dimensionamento**"
   ]
  },
  {
   "cell_type": "code",
   "execution_count": 31,
   "id": "15f050a7-959b-4032-955c-5f32a816cfaa",
   "metadata": {},
   "outputs": [
    {
     "name": "stdout",
     "output_type": "stream",
     "text": [
      "Volume do tanque de mistura (V): 14.0 m³.\n",
      "Largura útil do tanque (L): 2.0 m (seção quadrada).\n",
      "Diâmetro do rotor (D): 0.8 m.\n",
      "Rotação do rotor (n): 77.0 rpm.\n",
      "Potência do conjunto de agitação (P): 7.95 CV.\n",
      "Consumo de energia (C): 140.0 kWh/dia.\n"
     ]
    }
   ],
   "source": [
    "print(\"Volume do tanque de mistura (V):\", V, \"m³.\")\n",
    "print(\"Largura útil do tanque (L):\", L, \"m (seção quadrada).\")\n",
    "print(\"Diâmetro do rotor (D):\", D, \"m.\")\n",
    "print(\"Rotação do rotor (n):\", round(n, 0), \"rpm.\")\n",
    "print(\"Potência do conjunto de agitação (P):\", round(Pot_real_CV, 2), \"CV.\")\n",
    "print(\"Consumo de energia (C):\", round(C_energia, 0), \"kWh/dia.\")"
   ]
  },
  {
   "cell_type": "markdown",
   "id": "89447782-bb64-440c-bd62-5592dfb3bdd2",
   "metadata": {},
   "source": [
    "### Fim do roteiro\n",
    "**https://pessoas.unifal-mg.edu.br/leonardodamasceno/**"
   ]
  }
 ],
 "metadata": {
  "kernelspec": {
   "display_name": "Python [conda env:anaconda3]",
   "language": "python",
   "name": "conda-env-anaconda3-py"
  },
  "language_info": {
   "codemirror_mode": {
    "name": "ipython",
    "version": 3
   },
   "file_extension": ".py",
   "mimetype": "text/x-python",
   "name": "python",
   "nbconvert_exporter": "python",
   "pygments_lexer": "ipython3",
   "version": "3.11.5"
  }
 },
 "nbformat": 4,
 "nbformat_minor": 5
}
