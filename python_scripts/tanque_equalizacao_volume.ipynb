{
 "cells": [
  {
   "cell_type": "markdown",
   "id": "839ecce3-df2d-4427-bf34-c28b668ab66d",
   "metadata": {},
   "source": [
    "# Dimensionamento de unidade para equalização de volume"
   ]
  },
  {
   "cell_type": "markdown",
   "id": "dad03b51-668a-42c7-b01d-8e28935811c6",
   "metadata": {},
   "source": [
    "- Roteiro de cálculo para equalização do volume.\n",
    "- Use por sua conta e risco."
   ]
  },
  {
   "cell_type": "markdown",
   "id": "c32a2bc9-b2fd-4e04-914a-cbc7f96b7d6f",
   "metadata": {},
   "source": [
    "**Prof. Leonardo Damasceno - leonardo.damasceno@unifal-mg.edu.br**\n",
    "\n",
    "<span style=\"color:red\">**ATENÇÃO!**</span>. Executar o roteiro passo a passo adotando os valores intermediários quando necessário. "
   ]
  },
  {
   "cell_type": "markdown",
   "id": "fa6d6447-2394-4c8e-89dd-19a95c89f816",
   "metadata": {},
   "source": [
    "### Bibliotecas"
   ]
  },
  {
   "cell_type": "code",
   "execution_count": 5,
   "id": "5a3b1935-dadd-44f0-96f8-872b71c5e21e",
   "metadata": {},
   "outputs": [],
   "source": [
    "import numpy as np\n",
    "import matplotlib.pyplot as plt"
   ]
  },
  {
   "cell_type": "markdown",
   "id": "ef51f9b2-00f8-4352-9e3a-4d7ef784c4b7",
   "metadata": {},
   "source": [
    "### Dados de entrada"
   ]
  },
  {
   "cell_type": "code",
   "execution_count": 7,
   "id": "5f4d968b-f8a1-487d-9874-c742b9051305",
   "metadata": {},
   "outputs": [],
   "source": [
    "vazao_entrada = [5, 10, 15, 10, 5, 8, 12, 6, 10, 15]  # Vazões de entrada\n",
    "vazao_saida = [np.mean(vazao_entrada)] * len(vazao_entrada)  # Vazão de saída constante correspondente à média das vazões de entrada\n",
    "delta_t = 1  # Intervalo de tempo da determinação das vazões de entrada\n",
    "fator_seguranca = 0.25 #Incremento no valor do volume de segurança em função da confiabilidade dos dados."
   ]
  },
  {
   "cell_type": "markdown",
   "id": "78beecd5-24bb-4f82-95bc-a6526cdd673b",
   "metadata": {},
   "source": [
    "### Função para determinação do volume de equalização"
   ]
  },
  {
   "cell_type": "code",
   "execution_count": 9,
   "id": "5a61f2ba-169d-48eb-9e0d-9a966371e954",
   "metadata": {},
   "outputs": [],
   "source": [
    "def calcular_volume_tanque(vazao_entrada, vazao_saida, delta_t, fator_seguranca):\n",
    "    # Calcula os volumes acumulados de entrada e saída\n",
    "    volume_entrada = np.cumsum(vazao_entrada) * delta_t\n",
    "    volume_saida = np.cumsum(vazao_saida) * delta_t\n",
    "\n",
    "    # Calcula o balanço acumulado\n",
    "    volume_acumulado = volume_entrada - volume_saida\n",
    "\n",
    "    # Determina o volume máximo necessário para o tanque\n",
    "    volume_tanque = max(abs(volume_acumulado.min()), abs(volume_acumulado.max()))\n",
    "    volume_tanque_total = volume_tanque*(1+fator_seguranca)\n",
    "\n",
    "    return volume_tanque, volume_tanque_total, volume_acumulado"
   ]
  },
  {
   "cell_type": "markdown",
   "id": "c7f54cd2-cce7-41b8-bef6-6e8002da6f06",
   "metadata": {},
   "source": [
    "### Aplicação"
   ]
  },
  {
   "cell_type": "code",
   "execution_count": 11,
   "id": "615c24d4-4f8e-4d10-bbb3-253010b510fc",
   "metadata": {},
   "outputs": [
    {
     "name": "stdout",
     "output_type": "stream",
     "text": [
      "Volume útil para o tanque de equalização: 5.80 m³\n",
      "Volume total para o tanque de equalização (com fator de segurança): 7.25 m³\n"
     ]
    }
   ],
   "source": [
    "# Calcula o volume do tanque\n",
    "volume_tanque, volume_tanque_total, volume_acumulado = calcular_volume_tanque(vazao_entrada, vazao_saida, delta_t, fator_seguranca)\n",
    "\n",
    "# Resultados\n",
    "print(f\"Volume útil para o tanque de equalização: {volume_tanque:.2f} m³\")\n",
    "print(f\"Volume total para o tanque de equalização (com fator de segurança): {volume_tanque_total:.2f} m³\")\n"
   ]
  },
  {
   "cell_type": "markdown",
   "id": "89447782-bb64-440c-bd62-5592dfb3bdd2",
   "metadata": {},
   "source": [
    "### Fim do roteiro\n",
    "**https://github.com/lnrddev/**"
   ]
  }
 ],
 "metadata": {
  "kernelspec": {
   "display_name": "Python [conda env:anaconda3]",
   "language": "python",
   "name": "conda-env-anaconda3-py"
  },
  "language_info": {
   "codemirror_mode": {
    "name": "ipython",
    "version": 3
   },
   "file_extension": ".py",
   "mimetype": "text/x-python",
   "name": "python",
   "nbconvert_exporter": "python",
   "pygments_lexer": "ipython3",
   "version": "3.11.5"
  }
 },
 "nbformat": 4,
 "nbformat_minor": 5
}
